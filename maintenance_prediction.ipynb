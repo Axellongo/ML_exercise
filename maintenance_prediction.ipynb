{
 "cells": [
  {
   "cell_type": "code",
   "execution_count": 4,
   "id": "bf8bd16d",
   "metadata": {},
   "outputs": [],
   "source": [
    "import pandas as pd\n",
    "import numpy as np\n",
    "import matplotlib.pyplot as plt\n",
    "from sklearn.model_selection import train_test_split"
   ]
  },
  {
   "cell_type": "code",
   "execution_count": 8,
   "id": "b10eac51",
   "metadata": {},
   "outputs": [],
   "source": [
    "data = pd.read_csv('archivos_ml/full_devices.csv', encoding=\"latin-1\")"
   ]
  },
  {
   "cell_type": "code",
   "execution_count": 10,
   "id": "da58f9a4",
   "metadata": {
    "scrolled": true
   },
   "outputs": [
    {
     "name": "stdout",
     "output_type": "stream",
     "text": [
      "(124494, 12)\n"
     ]
    },
    {
     "data": {
      "text/html": [
       "<div>\n",
       "<style scoped>\n",
       "    .dataframe tbody tr th:only-of-type {\n",
       "        vertical-align: middle;\n",
       "    }\n",
       "\n",
       "    .dataframe tbody tr th {\n",
       "        vertical-align: top;\n",
       "    }\n",
       "\n",
       "    .dataframe thead th {\n",
       "        text-align: right;\n",
       "    }\n",
       "</style>\n",
       "<table border=\"1\" class=\"dataframe\">\n",
       "  <thead>\n",
       "    <tr style=\"text-align: right;\">\n",
       "      <th></th>\n",
       "      <th>date</th>\n",
       "      <th>device</th>\n",
       "      <th>failure</th>\n",
       "      <th>attribute1</th>\n",
       "      <th>attribute2</th>\n",
       "      <th>attribute3</th>\n",
       "      <th>attribute4</th>\n",
       "      <th>attribute5</th>\n",
       "      <th>attribute6</th>\n",
       "      <th>attribute7</th>\n",
       "      <th>attribute8</th>\n",
       "      <th>attribute9</th>\n",
       "    </tr>\n",
       "  </thead>\n",
       "  <tbody>\n",
       "    <tr>\n",
       "      <th>0</th>\n",
       "      <td>2015-01-01</td>\n",
       "      <td>S1F01085</td>\n",
       "      <td>0</td>\n",
       "      <td>215630672</td>\n",
       "      <td>56</td>\n",
       "      <td>0</td>\n",
       "      <td>52</td>\n",
       "      <td>6</td>\n",
       "      <td>407438</td>\n",
       "      <td>0</td>\n",
       "      <td>0</td>\n",
       "      <td>7</td>\n",
       "    </tr>\n",
       "    <tr>\n",
       "      <th>1</th>\n",
       "      <td>2015-01-01</td>\n",
       "      <td>S1F0166B</td>\n",
       "      <td>0</td>\n",
       "      <td>61370680</td>\n",
       "      <td>0</td>\n",
       "      <td>3</td>\n",
       "      <td>0</td>\n",
       "      <td>6</td>\n",
       "      <td>403174</td>\n",
       "      <td>0</td>\n",
       "      <td>0</td>\n",
       "      <td>0</td>\n",
       "    </tr>\n",
       "    <tr>\n",
       "      <th>2</th>\n",
       "      <td>2015-01-01</td>\n",
       "      <td>S1F01E6Y</td>\n",
       "      <td>0</td>\n",
       "      <td>173295968</td>\n",
       "      <td>0</td>\n",
       "      <td>0</td>\n",
       "      <td>0</td>\n",
       "      <td>12</td>\n",
       "      <td>237394</td>\n",
       "      <td>0</td>\n",
       "      <td>0</td>\n",
       "      <td>0</td>\n",
       "    </tr>\n",
       "    <tr>\n",
       "      <th>3</th>\n",
       "      <td>2015-01-01</td>\n",
       "      <td>S1F01JE0</td>\n",
       "      <td>0</td>\n",
       "      <td>79694024</td>\n",
       "      <td>0</td>\n",
       "      <td>0</td>\n",
       "      <td>0</td>\n",
       "      <td>6</td>\n",
       "      <td>410186</td>\n",
       "      <td>0</td>\n",
       "      <td>0</td>\n",
       "      <td>0</td>\n",
       "    </tr>\n",
       "    <tr>\n",
       "      <th>4</th>\n",
       "      <td>2015-01-01</td>\n",
       "      <td>S1F01R2B</td>\n",
       "      <td>0</td>\n",
       "      <td>135970480</td>\n",
       "      <td>0</td>\n",
       "      <td>0</td>\n",
       "      <td>0</td>\n",
       "      <td>15</td>\n",
       "      <td>313173</td>\n",
       "      <td>0</td>\n",
       "      <td>0</td>\n",
       "      <td>3</td>\n",
       "    </tr>\n",
       "  </tbody>\n",
       "</table>\n",
       "</div>"
      ],
      "text/plain": [
       "         date    device  failure  attribute1  attribute2  attribute3  \\\n",
       "0  2015-01-01  S1F01085        0   215630672          56           0   \n",
       "1  2015-01-01  S1F0166B        0    61370680           0           3   \n",
       "2  2015-01-01  S1F01E6Y        0   173295968           0           0   \n",
       "3  2015-01-01  S1F01JE0        0    79694024           0           0   \n",
       "4  2015-01-01  S1F01R2B        0   135970480           0           0   \n",
       "\n",
       "   attribute4  attribute5  attribute6  attribute7  attribute8  attribute9  \n",
       "0          52           6      407438           0           0           7  \n",
       "1           0           6      403174           0           0           0  \n",
       "2           0          12      237394           0           0           0  \n",
       "3           0           6      410186           0           0           0  \n",
       "4           0          15      313173           0           0           3  "
      ]
     },
     "execution_count": 10,
     "metadata": {},
     "output_type": "execute_result"
    }
   ],
   "source": [
    "print(data.shape)\n",
    "data.head()"
   ]
  },
  {
   "cell_type": "code",
   "execution_count": 13,
   "id": "52fb3941",
   "metadata": {
    "scrolled": true
   },
   "outputs": [
    {
     "data": {
      "text/plain": [
       "1169"
      ]
     },
     "execution_count": 13,
     "metadata": {},
     "output_type": "execute_result"
    }
   ],
   "source": [
    "data['device'].nunique()"
   ]
  },
  {
   "cell_type": "code",
   "execution_count": 16,
   "id": "ccfabe34",
   "metadata": {
    "scrolled": true
   },
   "outputs": [
    {
     "data": {
      "text/plain": [
       "device\n",
       "Z1F0QLC1    304\n",
       "S1F0KYCR    304\n",
       "S1F0E9EP    304\n",
       "S1F0EGMT    304\n",
       "S1F0FGBQ    304\n",
       "           ... \n",
       "W1F1CHZK      5\n",
       "W1F1CJKT      5\n",
       "S1F04KSC      4\n",
       "W1F0WJFT      3\n",
       "W1F1DA5ÿ      1\n",
       "Name: count, Length: 1169, dtype: int64"
      ]
     },
     "execution_count": 16,
     "metadata": {},
     "output_type": "execute_result"
    }
   ],
   "source": [
    "data['device'].value_counts()"
   ]
  },
  {
   "cell_type": "code",
   "execution_count": 15,
   "id": "4e92732d",
   "metadata": {},
   "outputs": [
    {
     "data": {
      "text/plain": [
       "304"
      ]
     },
     "execution_count": 15,
     "metadata": {},
     "output_type": "execute_result"
    }
   ],
   "source": [
    "data['date'].nunique()"
   ]
  },
  {
   "cell_type": "code",
   "execution_count": 14,
   "id": "edae76a1",
   "metadata": {
    "scrolled": true
   },
   "outputs": [
    {
     "data": {
      "text/plain": [
       "failure\n",
       "0    124388\n",
       "1       106\n",
       "Name: count, dtype: int64"
      ]
     },
     "execution_count": 14,
     "metadata": {},
     "output_type": "execute_result"
    }
   ],
   "source": [
    "data.failure.value_counts()"
   ]
  },
  {
   "cell_type": "code",
   "execution_count": 27,
   "id": "7de848f6",
   "metadata": {},
   "outputs": [
    {
     "data": {
      "text/html": [
       "<div>\n",
       "<style scoped>\n",
       "    .dataframe tbody tr th:only-of-type {\n",
       "        vertical-align: middle;\n",
       "    }\n",
       "\n",
       "    .dataframe tbody tr th {\n",
       "        vertical-align: top;\n",
       "    }\n",
       "\n",
       "    .dataframe thead th {\n",
       "        text-align: right;\n",
       "    }\n",
       "</style>\n",
       "<table border=\"1\" class=\"dataframe\">\n",
       "  <thead>\n",
       "    <tr style=\"text-align: right;\">\n",
       "      <th></th>\n",
       "      <th>date</th>\n",
       "      <th>device</th>\n",
       "      <th>failure</th>\n",
       "      <th>attribute1</th>\n",
       "      <th>attribute2</th>\n",
       "      <th>attribute3</th>\n",
       "      <th>attribute4</th>\n",
       "      <th>attribute5</th>\n",
       "      <th>attribute6</th>\n",
       "      <th>attribute7</th>\n",
       "      <th>attribute8</th>\n",
       "      <th>attribute9</th>\n",
       "    </tr>\n",
       "  </thead>\n",
       "  <tbody>\n",
       "    <tr>\n",
       "      <th>107586</th>\n",
       "      <td>2015-07-28</td>\n",
       "      <td>W1F14XGD</td>\n",
       "      <td>1</td>\n",
       "      <td>89738992</td>\n",
       "      <td>15336</td>\n",
       "      <td>0</td>\n",
       "      <td>0</td>\n",
       "      <td>12</td>\n",
       "      <td>242949</td>\n",
       "      <td>0</td>\n",
       "      <td>0</td>\n",
       "      <td>0</td>\n",
       "    </tr>\n",
       "    <tr>\n",
       "      <th>108173</th>\n",
       "      <td>2015-07-30</td>\n",
       "      <td>S1F135TN</td>\n",
       "      <td>1</td>\n",
       "      <td>61914048</td>\n",
       "      <td>21200</td>\n",
       "      <td>0</td>\n",
       "      <td>1</td>\n",
       "      <td>16</td>\n",
       "      <td>349173</td>\n",
       "      <td>8</td>\n",
       "      <td>8</td>\n",
       "      <td>0</td>\n",
       "    </tr>\n",
       "    <tr>\n",
       "      <th>108625</th>\n",
       "      <td>2015-07-31</td>\n",
       "      <td>W1F1DQN8</td>\n",
       "      <td>1</td>\n",
       "      <td>201440888</td>\n",
       "      <td>0</td>\n",
       "      <td>0</td>\n",
       "      <td>0</td>\n",
       "      <td>10</td>\n",
       "      <td>396</td>\n",
       "      <td>48</td>\n",
       "      <td>48</td>\n",
       "      <td>0</td>\n",
       "    </tr>\n",
       "    <tr>\n",
       "      <th>109371</th>\n",
       "      <td>2015-08-03</td>\n",
       "      <td>S1F03YZM</td>\n",
       "      <td>1</td>\n",
       "      <td>110199904</td>\n",
       "      <td>240</td>\n",
       "      <td>0</td>\n",
       "      <td>0</td>\n",
       "      <td>8</td>\n",
       "      <td>294852</td>\n",
       "      <td>0</td>\n",
       "      <td>0</td>\n",
       "      <td>0</td>\n",
       "    </tr>\n",
       "    <tr>\n",
       "      <th>109395</th>\n",
       "      <td>2015-08-03</td>\n",
       "      <td>S1F0GSHB</td>\n",
       "      <td>1</td>\n",
       "      <td>150125272</td>\n",
       "      <td>0</td>\n",
       "      <td>0</td>\n",
       "      <td>23</td>\n",
       "      <td>91</td>\n",
       "      <td>251780</td>\n",
       "      <td>8</td>\n",
       "      <td>8</td>\n",
       "      <td>0</td>\n",
       "    </tr>\n",
       "    <tr>\n",
       "      <th>109927</th>\n",
       "      <td>2015-08-04</td>\n",
       "      <td>W1F1CB5E</td>\n",
       "      <td>1</td>\n",
       "      <td>16043296</td>\n",
       "      <td>88</td>\n",
       "      <td>0</td>\n",
       "      <td>0</td>\n",
       "      <td>9</td>\n",
       "      <td>30</td>\n",
       "      <td>0</td>\n",
       "      <td>0</td>\n",
       "      <td>0</td>\n",
       "    </tr>\n",
       "    <tr>\n",
       "      <th>114251</th>\n",
       "      <td>2015-08-18</td>\n",
       "      <td>Z1F0MRPJ</td>\n",
       "      <td>1</td>\n",
       "      <td>65654088</td>\n",
       "      <td>0</td>\n",
       "      <td>0</td>\n",
       "      <td>0</td>\n",
       "      <td>9</td>\n",
       "      <td>298592</td>\n",
       "      <td>0</td>\n",
       "      <td>0</td>\n",
       "      <td>11</td>\n",
       "    </tr>\n",
       "    <tr>\n",
       "      <th>122118</th>\n",
       "      <td>2015-10-05</td>\n",
       "      <td>S1F0JGJV</td>\n",
       "      <td>1</td>\n",
       "      <td>13739704</td>\n",
       "      <td>0</td>\n",
       "      <td>0</td>\n",
       "      <td>18</td>\n",
       "      <td>8</td>\n",
       "      <td>343760</td>\n",
       "      <td>0</td>\n",
       "      <td>0</td>\n",
       "      <td>0</td>\n",
       "    </tr>\n",
       "    <tr>\n",
       "      <th>122808</th>\n",
       "      <td>2015-10-09</td>\n",
       "      <td>Z1F14BGY</td>\n",
       "      <td>1</td>\n",
       "      <td>85259320</td>\n",
       "      <td>0</td>\n",
       "      <td>0</td>\n",
       "      <td>164</td>\n",
       "      <td>8</td>\n",
       "      <td>262932</td>\n",
       "      <td>0</td>\n",
       "      <td>0</td>\n",
       "      <td>0</td>\n",
       "    </tr>\n",
       "    <tr>\n",
       "      <th>124329</th>\n",
       "      <td>2015-10-26</td>\n",
       "      <td>W1F0T0B1</td>\n",
       "      <td>1</td>\n",
       "      <td>95073232</td>\n",
       "      <td>0</td>\n",
       "      <td>0</td>\n",
       "      <td>7</td>\n",
       "      <td>9</td>\n",
       "      <td>354861</td>\n",
       "      <td>22</td>\n",
       "      <td>22</td>\n",
       "      <td>0</td>\n",
       "    </tr>\n",
       "  </tbody>\n",
       "</table>\n",
       "</div>"
      ],
      "text/plain": [
       "              date    device  failure  attribute1  attribute2  attribute3  \\\n",
       "107586  2015-07-28  W1F14XGD        1    89738992       15336           0   \n",
       "108173  2015-07-30  S1F135TN        1    61914048       21200           0   \n",
       "108625  2015-07-31  W1F1DQN8        1   201440888           0           0   \n",
       "109371  2015-08-03  S1F03YZM        1   110199904         240           0   \n",
       "109395  2015-08-03  S1F0GSHB        1   150125272           0           0   \n",
       "109927  2015-08-04  W1F1CB5E        1    16043296          88           0   \n",
       "114251  2015-08-18  Z1F0MRPJ        1    65654088           0           0   \n",
       "122118  2015-10-05  S1F0JGJV        1    13739704           0           0   \n",
       "122808  2015-10-09  Z1F14BGY        1    85259320           0           0   \n",
       "124329  2015-10-26  W1F0T0B1        1    95073232           0           0   \n",
       "\n",
       "        attribute4  attribute5  attribute6  attribute7  attribute8  attribute9  \n",
       "107586           0          12      242949           0           0           0  \n",
       "108173           1          16      349173           8           8           0  \n",
       "108625           0          10         396          48          48           0  \n",
       "109371           0           8      294852           0           0           0  \n",
       "109395          23          91      251780           8           8           0  \n",
       "109927           0           9          30           0           0           0  \n",
       "114251           0           9      298592           0           0          11  \n",
       "122118          18           8      343760           0           0           0  \n",
       "122808         164           8      262932           0           0           0  \n",
       "124329           7           9      354861          22          22           0  "
      ]
     },
     "execution_count": 27,
     "metadata": {},
     "output_type": "execute_result"
    }
   ],
   "source": [
    "data[data['failure']==1].tail(10)"
   ]
  },
  {
   "cell_type": "code",
   "execution_count": 30,
   "id": "c3736e11",
   "metadata": {
    "scrolled": true
   },
   "outputs": [
    {
     "data": {
      "text/html": [
       "<div>\n",
       "<style scoped>\n",
       "    .dataframe tbody tr th:only-of-type {\n",
       "        vertical-align: middle;\n",
       "    }\n",
       "\n",
       "    .dataframe tbody tr th {\n",
       "        vertical-align: top;\n",
       "    }\n",
       "\n",
       "    .dataframe thead th {\n",
       "        text-align: right;\n",
       "    }\n",
       "</style>\n",
       "<table border=\"1\" class=\"dataframe\">\n",
       "  <thead>\n",
       "    <tr style=\"text-align: right;\">\n",
       "      <th></th>\n",
       "      <th>date</th>\n",
       "      <th>device</th>\n",
       "      <th>failure</th>\n",
       "      <th>attribute1</th>\n",
       "      <th>attribute2</th>\n",
       "      <th>attribute3</th>\n",
       "      <th>attribute4</th>\n",
       "      <th>attribute5</th>\n",
       "      <th>attribute6</th>\n",
       "      <th>attribute7</th>\n",
       "      <th>attribute8</th>\n",
       "      <th>attribute9</th>\n",
       "    </tr>\n",
       "  </thead>\n",
       "  <tbody>\n",
       "    <tr>\n",
       "      <th>104272</th>\n",
       "      <td>2015-07-18</td>\n",
       "      <td>W1F1DQN8</td>\n",
       "      <td>0</td>\n",
       "      <td>139016560</td>\n",
       "      <td>0</td>\n",
       "      <td>0</td>\n",
       "      <td>0</td>\n",
       "      <td>10</td>\n",
       "      <td>50</td>\n",
       "      <td>48</td>\n",
       "      <td>48</td>\n",
       "      <td>0</td>\n",
       "    </tr>\n",
       "    <tr>\n",
       "      <th>104610</th>\n",
       "      <td>2015-07-19</td>\n",
       "      <td>W1F1DQN8</td>\n",
       "      <td>0</td>\n",
       "      <td>213553128</td>\n",
       "      <td>0</td>\n",
       "      <td>0</td>\n",
       "      <td>0</td>\n",
       "      <td>10</td>\n",
       "      <td>69</td>\n",
       "      <td>48</td>\n",
       "      <td>48</td>\n",
       "      <td>0</td>\n",
       "    </tr>\n",
       "    <tr>\n",
       "      <th>104948</th>\n",
       "      <td>2015-07-20</td>\n",
       "      <td>W1F1DQN8</td>\n",
       "      <td>0</td>\n",
       "      <td>168769592</td>\n",
       "      <td>0</td>\n",
       "      <td>0</td>\n",
       "      <td>0</td>\n",
       "      <td>10</td>\n",
       "      <td>69</td>\n",
       "      <td>48</td>\n",
       "      <td>48</td>\n",
       "      <td>0</td>\n",
       "    </tr>\n",
       "    <tr>\n",
       "      <th>105284</th>\n",
       "      <td>2015-07-21</td>\n",
       "      <td>W1F1DQN8</td>\n",
       "      <td>0</td>\n",
       "      <td>208748896</td>\n",
       "      <td>0</td>\n",
       "      <td>0</td>\n",
       "      <td>0</td>\n",
       "      <td>10</td>\n",
       "      <td>69</td>\n",
       "      <td>48</td>\n",
       "      <td>48</td>\n",
       "      <td>0</td>\n",
       "    </tr>\n",
       "    <tr>\n",
       "      <th>105620</th>\n",
       "      <td>2015-07-22</td>\n",
       "      <td>W1F1DQN8</td>\n",
       "      <td>0</td>\n",
       "      <td>139640784</td>\n",
       "      <td>0</td>\n",
       "      <td>0</td>\n",
       "      <td>0</td>\n",
       "      <td>10</td>\n",
       "      <td>73</td>\n",
       "      <td>48</td>\n",
       "      <td>48</td>\n",
       "      <td>0</td>\n",
       "    </tr>\n",
       "    <tr>\n",
       "      <th>105956</th>\n",
       "      <td>2015-07-23</td>\n",
       "      <td>W1F1DQN8</td>\n",
       "      <td>0</td>\n",
       "      <td>106836072</td>\n",
       "      <td>0</td>\n",
       "      <td>0</td>\n",
       "      <td>0</td>\n",
       "      <td>10</td>\n",
       "      <td>79</td>\n",
       "      <td>48</td>\n",
       "      <td>48</td>\n",
       "      <td>0</td>\n",
       "    </tr>\n",
       "    <tr>\n",
       "      <th>106291</th>\n",
       "      <td>2015-07-24</td>\n",
       "      <td>W1F1DQN8</td>\n",
       "      <td>0</td>\n",
       "      <td>46126624</td>\n",
       "      <td>0</td>\n",
       "      <td>0</td>\n",
       "      <td>0</td>\n",
       "      <td>10</td>\n",
       "      <td>79</td>\n",
       "      <td>48</td>\n",
       "      <td>48</td>\n",
       "      <td>0</td>\n",
       "    </tr>\n",
       "    <tr>\n",
       "      <th>106625</th>\n",
       "      <td>2015-07-25</td>\n",
       "      <td>W1F1DQN8</td>\n",
       "      <td>0</td>\n",
       "      <td>234522432</td>\n",
       "      <td>0</td>\n",
       "      <td>0</td>\n",
       "      <td>0</td>\n",
       "      <td>10</td>\n",
       "      <td>79</td>\n",
       "      <td>48</td>\n",
       "      <td>48</td>\n",
       "      <td>0</td>\n",
       "    </tr>\n",
       "    <tr>\n",
       "      <th>106959</th>\n",
       "      <td>2015-07-26</td>\n",
       "      <td>W1F1DQN8</td>\n",
       "      <td>0</td>\n",
       "      <td>177341872</td>\n",
       "      <td>0</td>\n",
       "      <td>0</td>\n",
       "      <td>0</td>\n",
       "      <td>10</td>\n",
       "      <td>79</td>\n",
       "      <td>48</td>\n",
       "      <td>48</td>\n",
       "      <td>0</td>\n",
       "    </tr>\n",
       "    <tr>\n",
       "      <th>107293</th>\n",
       "      <td>2015-07-27</td>\n",
       "      <td>W1F1DQN8</td>\n",
       "      <td>0</td>\n",
       "      <td>21338512</td>\n",
       "      <td>0</td>\n",
       "      <td>0</td>\n",
       "      <td>0</td>\n",
       "      <td>10</td>\n",
       "      <td>79</td>\n",
       "      <td>48</td>\n",
       "      <td>48</td>\n",
       "      <td>0</td>\n",
       "    </tr>\n",
       "    <tr>\n",
       "      <th>107627</th>\n",
       "      <td>2015-07-28</td>\n",
       "      <td>W1F1DQN8</td>\n",
       "      <td>0</td>\n",
       "      <td>136590608</td>\n",
       "      <td>0</td>\n",
       "      <td>0</td>\n",
       "      <td>0</td>\n",
       "      <td>10</td>\n",
       "      <td>87</td>\n",
       "      <td>48</td>\n",
       "      <td>48</td>\n",
       "      <td>0</td>\n",
       "    </tr>\n",
       "    <tr>\n",
       "      <th>107960</th>\n",
       "      <td>2015-07-29</td>\n",
       "      <td>W1F1DQN8</td>\n",
       "      <td>0</td>\n",
       "      <td>61027392</td>\n",
       "      <td>0</td>\n",
       "      <td>0</td>\n",
       "      <td>0</td>\n",
       "      <td>10</td>\n",
       "      <td>89</td>\n",
       "      <td>48</td>\n",
       "      <td>48</td>\n",
       "      <td>0</td>\n",
       "    </tr>\n",
       "    <tr>\n",
       "      <th>108293</th>\n",
       "      <td>2015-07-30</td>\n",
       "      <td>W1F1DQN8</td>\n",
       "      <td>0</td>\n",
       "      <td>128880368</td>\n",
       "      <td>0</td>\n",
       "      <td>0</td>\n",
       "      <td>0</td>\n",
       "      <td>10</td>\n",
       "      <td>89</td>\n",
       "      <td>48</td>\n",
       "      <td>48</td>\n",
       "      <td>0</td>\n",
       "    </tr>\n",
       "    <tr>\n",
       "      <th>108625</th>\n",
       "      <td>2015-07-31</td>\n",
       "      <td>W1F1DQN8</td>\n",
       "      <td>1</td>\n",
       "      <td>201440888</td>\n",
       "      <td>0</td>\n",
       "      <td>0</td>\n",
       "      <td>0</td>\n",
       "      <td>10</td>\n",
       "      <td>396</td>\n",
       "      <td>48</td>\n",
       "      <td>48</td>\n",
       "      <td>0</td>\n",
       "    </tr>\n",
       "  </tbody>\n",
       "</table>\n",
       "</div>"
      ],
      "text/plain": [
       "              date    device  failure  attribute1  attribute2  attribute3  \\\n",
       "104272  2015-07-18  W1F1DQN8        0   139016560           0           0   \n",
       "104610  2015-07-19  W1F1DQN8        0   213553128           0           0   \n",
       "104948  2015-07-20  W1F1DQN8        0   168769592           0           0   \n",
       "105284  2015-07-21  W1F1DQN8        0   208748896           0           0   \n",
       "105620  2015-07-22  W1F1DQN8        0   139640784           0           0   \n",
       "105956  2015-07-23  W1F1DQN8        0   106836072           0           0   \n",
       "106291  2015-07-24  W1F1DQN8        0    46126624           0           0   \n",
       "106625  2015-07-25  W1F1DQN8        0   234522432           0           0   \n",
       "106959  2015-07-26  W1F1DQN8        0   177341872           0           0   \n",
       "107293  2015-07-27  W1F1DQN8        0    21338512           0           0   \n",
       "107627  2015-07-28  W1F1DQN8        0   136590608           0           0   \n",
       "107960  2015-07-29  W1F1DQN8        0    61027392           0           0   \n",
       "108293  2015-07-30  W1F1DQN8        0   128880368           0           0   \n",
       "108625  2015-07-31  W1F1DQN8        1   201440888           0           0   \n",
       "\n",
       "        attribute4  attribute5  attribute6  attribute7  attribute8  attribute9  \n",
       "104272           0          10          50          48          48           0  \n",
       "104610           0          10          69          48          48           0  \n",
       "104948           0          10          69          48          48           0  \n",
       "105284           0          10          69          48          48           0  \n",
       "105620           0          10          73          48          48           0  \n",
       "105956           0          10          79          48          48           0  \n",
       "106291           0          10          79          48          48           0  \n",
       "106625           0          10          79          48          48           0  \n",
       "106959           0          10          79          48          48           0  \n",
       "107293           0          10          79          48          48           0  \n",
       "107627           0          10          87          48          48           0  \n",
       "107960           0          10          89          48          48           0  \n",
       "108293           0          10          89          48          48           0  \n",
       "108625           0          10         396          48          48           0  "
      ]
     },
     "execution_count": 30,
     "metadata": {},
     "output_type": "execute_result"
    }
   ],
   "source": [
    "data[data['device']=='W1F1DQN8'].tail(14)"
   ]
  },
  {
   "cell_type": "code",
   "execution_count": 31,
   "id": "7841a9b4",
   "metadata": {
    "scrolled": true
   },
   "outputs": [
    {
     "data": {
      "text/plain": [
       "date          0\n",
       "device        0\n",
       "failure       0\n",
       "attribute1    0\n",
       "attribute2    0\n",
       "attribute3    0\n",
       "attribute4    0\n",
       "attribute5    0\n",
       "attribute6    0\n",
       "attribute7    0\n",
       "attribute8    0\n",
       "attribute9    0\n",
       "dtype: int64"
      ]
     },
     "execution_count": 31,
     "metadata": {},
     "output_type": "execute_result"
    }
   ],
   "source": [
    "data.isnull().sum()"
   ]
  },
  {
   "cell_type": "code",
   "execution_count": 33,
   "id": "129c0767",
   "metadata": {},
   "outputs": [],
   "source": [
    "for col in data.columns:\n",
    "    if col not in ['device', 'date', 'failure']:\n",
    "        data[col + '_rolling_mean_5'] = data.groupby('device')[col].transform(lambda x: x.rolling(window=5).mean())\n",
    "        data[col + '_rolling_mean_15'] = data.groupby('device')[col].transform(lambda x: x.rolling(window=15).mean())\n",
    "        data[col + '_rolling_mean_30'] = data.groupby('device')[col].transform(lambda x: x.rolling(window=30).mean())\n",
    "        data[col + '_rolling_mean_60'] = data.groupby('device')[col].transform(lambda x: x.rolling(window=60).mean())"
   ]
  },
  {
   "cell_type": "code",
   "execution_count": 37,
   "id": "3da51939",
   "metadata": {},
   "outputs": [],
   "source": [
    "data = data.fillna(0)"
   ]
  },
  {
   "cell_type": "code",
   "execution_count": 40,
   "id": "f8e7820e",
   "metadata": {},
   "outputs": [
    {
     "data": {
      "text/plain": [
       "((99595, 45), (24899, 45), (99595,), (24899,))"
      ]
     },
     "execution_count": 40,
     "metadata": {},
     "output_type": "execute_result"
    }
   ],
   "source": [
    "from sklearn.model_selection import train_test_split\n",
    "\n",
    "\n",
    "X = data.drop(columns=['failure', 'device', 'date'])\n",
    "y = data['failure']\n",
    "X_train, X_test, y_train, y_test = train_test_split(X, y, test_size=0.2, random_state=42)\n",
    "\n",
    "X_train.shape, X_test.shape, y_train.shape, y_test.shape"
   ]
  },
  {
   "cell_type": "code",
   "execution_count": 43,
   "id": "b4116241",
   "metadata": {
    "scrolled": true
   },
   "outputs": [
    {
     "data": {
      "text/plain": [
       "(failure\n",
       " 0    0.999116\n",
       " 1    0.000884\n",
       " Name: proportion, dtype: float64,\n",
       " failure\n",
       " 0    0.999277\n",
       " 1    0.000723\n",
       " Name: proportion, dtype: float64)"
      ]
     },
     "execution_count": 43,
     "metadata": {},
     "output_type": "execute_result"
    }
   ],
   "source": [
    "y_train.value_counts(1), y_test.value_counts(1)"
   ]
  },
  {
   "cell_type": "markdown",
   "id": "21517160",
   "metadata": {},
   "source": [
    "# Aplicamos Undersampling"
   ]
  },
  {
   "cell_type": "code",
   "execution_count": 61,
   "id": "c0b86710",
   "metadata": {},
   "outputs": [
    {
     "data": {
      "text/plain": [
       "(failure\n",
       " 0    0.5\n",
       " 1    0.5\n",
       " Name: proportion, dtype: float64,\n",
       " failure\n",
       " 0    0.999277\n",
       " 1    0.000723\n",
       " Name: proportion, dtype: float64,\n",
       " (176, 45))"
      ]
     },
     "execution_count": 61,
     "metadata": {},
     "output_type": "execute_result"
    }
   ],
   "source": [
    "from imblearn.under_sampling import RandomUnderSampler\n",
    "\n",
    "# Submuestreo usando RandomUnderSampler\n",
    "rus = RandomUnderSampler(random_state=42)\n",
    "X_res, y_res = rus.fit_resample(X_train, y_train)\n",
    "\n",
    "y_res.value_counts(1), y_test.value_counts(1), X_res.shape"
   ]
  },
  {
   "cell_type": "markdown",
   "id": "5f1c4629",
   "metadata": {},
   "source": [
    "# Random Forest"
   ]
  },
  {
   "cell_type": "code",
   "execution_count": 54,
   "id": "ad533105",
   "metadata": {
    "scrolled": true
   },
   "outputs": [
    {
     "name": "stdout",
     "output_type": "stream",
     "text": [
      "              precision    recall  f1-score   support\n",
      "\n",
      "           0       1.00      0.87      0.93     24881\n",
      "           1       0.00      0.72      0.01        18\n",
      "\n",
      "    accuracy                           0.87     24899\n",
      "   macro avg       0.50      0.79      0.47     24899\n",
      "weighted avg       1.00      0.87      0.93     24899\n",
      "\n",
      "[[21554  3327]\n",
      " [    5    13]]\n"
     ]
    }
   ],
   "source": [
    "from sklearn.ensemble import RandomForestClassifier\n",
    "from sklearn.metrics import classification_report, confusion_matrix\n",
    "\n",
    "# Entrenar el modelo\n",
    "model = RandomForestClassifier(n_estimators=100, random_state=42, class_weight='balanced')\n",
    "model.fit(X_res, y_res)\n",
    "\n",
    "# Predicciones\n",
    "y_pred = model.predict(X_test)\n",
    "\n",
    "# Evaluar el modelo\n",
    "print(classification_report(y_test, y_pred))\n",
    "print(confusion_matrix(y_test, y_pred))"
   ]
  },
  {
   "cell_type": "code",
   "execution_count": 55,
   "id": "36ef5a9b",
   "metadata": {},
   "outputs": [
    {
     "name": "stdout",
     "output_type": "stream",
     "text": [
      "AUC-ROC: 0.7942528658637337\n"
     ]
    }
   ],
   "source": [
    "from sklearn.metrics import roc_auc_score\n",
    "\n",
    "# Calcular AUC-ROC\n",
    "roc_auc = roc_auc_score(y_test, y_pred)\n",
    "print('AUC-ROC:', roc_auc)"
   ]
  },
  {
   "cell_type": "markdown",
   "id": "31a2b227",
   "metadata": {},
   "source": [
    "# XGBosting"
   ]
  },
  {
   "cell_type": "code",
   "execution_count": 58,
   "id": "1707ab2b",
   "metadata": {
    "scrolled": false
   },
   "outputs": [
    {
     "name": "stdout",
     "output_type": "stream",
     "text": [
      "              precision    recall  f1-score   support\n",
      "\n",
      "           0       1.00      0.66      0.80     24881\n",
      "           1       0.00      0.89      0.00        18\n",
      "\n",
      "    accuracy                           0.66     24899\n",
      "   macro avg       0.50      0.78      0.40     24899\n",
      "weighted avg       1.00      0.66      0.80     24899\n",
      "\n",
      "[[16478  8403]\n",
      " [    2    16]]\n"
     ]
    }
   ],
   "source": [
    "import xgboost as xgb\n",
    "\n",
    "\n",
    "# Crear el modelo XGBoost\n",
    "model = xgb.XGBClassifier(objective='binary:logistic', random_state=42, scale_pos_weight=len(y_train[y_train == 0]) / len(y_train[y_train == 1]))\n",
    "\n",
    "# Entrenar el modelo\n",
    "model.fit(X_res, y_res)\n",
    "\n",
    "# Predicciones\n",
    "y_pred = model.predict(X_test)\n",
    "\n",
    "# Evaluar el modelo\n",
    "print(classification_report(y_test, y_pred))\n",
    "print(confusion_matrix(y_test, y_pred))"
   ]
  },
  {
   "cell_type": "code",
   "execution_count": 59,
   "id": "03ecf309",
   "metadata": {},
   "outputs": [
    {
     "name": "stdout",
     "output_type": "stream",
     "text": [
      "AUC-ROC: 0.7755806527961988\n"
     ]
    }
   ],
   "source": [
    "# Calcular AUC-ROC\n",
    "roc_auc = roc_auc_score(y_test, y_pred)\n",
    "print('AUC-ROC:', roc_auc)"
   ]
  },
  {
   "cell_type": "code",
   "execution_count": 62,
   "id": "c3de22e2",
   "metadata": {},
   "outputs": [
    {
     "name": "stdout",
     "output_type": "stream",
     "text": [
      "Cross-validation F1-scores: [0.73684211 0.77272727 0.77777778 0.76190476 0.8       ]\n",
      "Mean F1-score: 0.769850383534594\n"
     ]
    }
   ],
   "source": [
    "from sklearn.model_selection import cross_val_score\n",
    "\n",
    "# Validación cruzada\n",
    "cv_scores = cross_val_score(model, X_res, y_res, cv=5, scoring='f1')\n",
    "print('Cross-validation F1-scores:', cv_scores)\n",
    "print('Mean F1-score:', cv_scores.mean())"
   ]
  }
 ],
 "metadata": {
  "kernelspec": {
   "display_name": "Python 3 (ipykernel)",
   "language": "python",
   "name": "python3"
  },
  "language_info": {
   "codemirror_mode": {
    "name": "ipython",
    "version": 3
   },
   "file_extension": ".py",
   "mimetype": "text/x-python",
   "name": "python",
   "nbconvert_exporter": "python",
   "pygments_lexer": "ipython3",
   "version": "3.11.7"
  }
 },
 "nbformat": 4,
 "nbformat_minor": 5
}
