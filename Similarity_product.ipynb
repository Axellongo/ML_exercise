{
 "cells": [
  {
   "cell_type": "code",
   "execution_count": 1,
   "id": "f8a2135c",
   "metadata": {
    "scrolled": true
   },
   "outputs": [
    {
     "name": "stderr",
     "output_type": "stream",
     "text": [
      "[nltk_data] Downloading package stopwords to\n",
      "[nltk_data]     C:\\Users\\longo\\AppData\\Roaming\\nltk_data...\n",
      "[nltk_data]   Package stopwords is already up-to-date!\n"
     ]
    }
   ],
   "source": [
    "import numpy as np\n",
    "from sklearn.metrics.pairwise import cosine_similarity\n",
    "from time import time\n",
    "import pandas as pd\n",
    "import re\n",
    "from unidecode import unidecode\n",
    "import nltk\n",
    "from nltk.corpus import stopwords\n",
    "from sklearn.feature_extraction.text import TfidfVectorizer\n",
    "from sklearn.pipeline import Pipeline\n",
    "from sklearn.base import BaseEstimator, TransformerMixin\n",
    "import joblib\n",
    "\n",
    "\n",
    "# Descargar stopwords\n",
    "nltk.download('stopwords')\n",
    "\n",
    "# Lista de stopwords en español\n",
    "stop_words = set(stopwords.words('Portuguese'))\n",
    "\n",
    "class TextPreprocessor(BaseEstimator, TransformerMixin):\n",
    "    def __init__(self, stop_words):\n",
    "        self.stop_words = stop_words\n",
    "    \n",
    "    def fit(self, X, y=None):\n",
    "        return self\n",
    "    \n",
    "    def transform(self, X, y=None):\n",
    "        return X.apply(self._preprocess_text)\n",
    "    \n",
    "    def _preprocess_text(self, text):\n",
    "        # Convertir a minúsculas\n",
    "        text = text.lower()\n",
    "        # Eliminar acentos\n",
    "        text = unidecode(text)\n",
    "        # Eliminar caracteres especiales\n",
    "        text = re.sub(r'[^\\w\\s]', '', text)\n",
    "        # Eliminar stopwords\n",
    "        text = ' '.join([word for word in text.split() if word not in self.stop_words])\n",
    "        return text\n",
    "    \n",
    "def calculate_similarity_pairs(df_dev, cosine_sim_sparse, similarity_threshold=0.8):\n",
    "    start_time = time()  # Start time measurement\n",
    "        \n",
    "    # Filtrar similitudes mayores que el threshol\n",
    "    rows, cols = cosine_sim_sparse.nonzero()\n",
    "    filtered_pairs = [(i, j, cosine_sim_sparse[i, j]) for i, j in zip(rows, cols) if i < j and cosine_sim_sparse[i, j] > similarity_threshold]\n",
    "\n",
    "    pairs = [{\n",
    "        'ITE_ITEM_TITLE_1': df_dev['ITE_ITEM_TITLE'].iloc[i],\n",
    "        'ITE_ITEM_TITLE_2': df_dev['ITE_ITEM_TITLE'].iloc[j],\n",
    "        'Score Similitud (0,1)': similarity\n",
    "    } for i, j, similarity in filtered_pairs]\n",
    "\n",
    "    # Ordenar los pares por la similitud en orden descendente\n",
    "    pairs = sorted(pairs, key=lambda x: x['Score Similitud (0,1)'], reverse=True)\n",
    "\n",
    "    end_time = time()\n",
    "    time_taken = end_time - start_time\n",
    "    return pd.DataFrame(pairs), time_taken"
   ]
  },
  {
   "cell_type": "code",
   "execution_count": 2,
   "id": "0d2a0cb9",
   "metadata": {
    "scrolled": true
   },
   "outputs": [
    {
     "name": "stdout",
     "output_type": "stream",
     "text": [
      "(30000, 1) (10000, 1)\n",
      "                                      ITE_ITEM_TITLE\n",
      "0  Tênis Ascension Posh Masculino - Preto E Verme...\n",
      "                                     ITE_ITEM_TITLE\n",
      "0  Tênis Olympikus Esporte Valente - Masculino Kids\n"
     ]
    }
   ],
   "source": [
    "df_dev = pd.read_csv('archivos_ml/items_titles.csv')\n",
    "df_test = pd.read_csv('archivos_ml/items_titles_test.csv')\n",
    "\n",
    "print(df_dev.shape, df_test.shape)\n",
    "print(df_dev.head(1))\n",
    "print(df_test.head(1))"
   ]
  },
  {
   "cell_type": "markdown",
   "id": "25b4e47a",
   "metadata": {},
   "source": [
    "# Preprosamiento"
   ]
  },
  {
   "cell_type": "code",
   "execution_count": 3,
   "id": "579c4120",
   "metadata": {},
   "outputs": [],
   "source": [
    "pipeline = Pipeline([\n",
    "    ('preprocessor', TextPreprocessor(stop_words)),  ### - limpieza\n",
    "    ('tfidf', TfidfVectorizer())  ### - vectorizacion\n",
    "])\n"
   ]
  },
  {
   "cell_type": "code",
   "execution_count": 4,
   "id": "0398ad69",
   "metadata": {},
   "outputs": [
    {
     "data": {
      "text/html": [
       "<style>#sk-container-id-1 {color: black;background-color: white;}#sk-container-id-1 pre{padding: 0;}#sk-container-id-1 div.sk-toggleable {background-color: white;}#sk-container-id-1 label.sk-toggleable__label {cursor: pointer;display: block;width: 100%;margin-bottom: 0;padding: 0.3em;box-sizing: border-box;text-align: center;}#sk-container-id-1 label.sk-toggleable__label-arrow:before {content: \"▸\";float: left;margin-right: 0.25em;color: #696969;}#sk-container-id-1 label.sk-toggleable__label-arrow:hover:before {color: black;}#sk-container-id-1 div.sk-estimator:hover label.sk-toggleable__label-arrow:before {color: black;}#sk-container-id-1 div.sk-toggleable__content {max-height: 0;max-width: 0;overflow: hidden;text-align: left;background-color: #f0f8ff;}#sk-container-id-1 div.sk-toggleable__content pre {margin: 0.2em;color: black;border-radius: 0.25em;background-color: #f0f8ff;}#sk-container-id-1 input.sk-toggleable__control:checked~div.sk-toggleable__content {max-height: 200px;max-width: 100%;overflow: auto;}#sk-container-id-1 input.sk-toggleable__control:checked~label.sk-toggleable__label-arrow:before {content: \"▾\";}#sk-container-id-1 div.sk-estimator input.sk-toggleable__control:checked~label.sk-toggleable__label {background-color: #d4ebff;}#sk-container-id-1 div.sk-label input.sk-toggleable__control:checked~label.sk-toggleable__label {background-color: #d4ebff;}#sk-container-id-1 input.sk-hidden--visually {border: 0;clip: rect(1px 1px 1px 1px);clip: rect(1px, 1px, 1px, 1px);height: 1px;margin: -1px;overflow: hidden;padding: 0;position: absolute;width: 1px;}#sk-container-id-1 div.sk-estimator {font-family: monospace;background-color: #f0f8ff;border: 1px dotted black;border-radius: 0.25em;box-sizing: border-box;margin-bottom: 0.5em;}#sk-container-id-1 div.sk-estimator:hover {background-color: #d4ebff;}#sk-container-id-1 div.sk-parallel-item::after {content: \"\";width: 100%;border-bottom: 1px solid gray;flex-grow: 1;}#sk-container-id-1 div.sk-label:hover label.sk-toggleable__label {background-color: #d4ebff;}#sk-container-id-1 div.sk-serial::before {content: \"\";position: absolute;border-left: 1px solid gray;box-sizing: border-box;top: 0;bottom: 0;left: 50%;z-index: 0;}#sk-container-id-1 div.sk-serial {display: flex;flex-direction: column;align-items: center;background-color: white;padding-right: 0.2em;padding-left: 0.2em;position: relative;}#sk-container-id-1 div.sk-item {position: relative;z-index: 1;}#sk-container-id-1 div.sk-parallel {display: flex;align-items: stretch;justify-content: center;background-color: white;position: relative;}#sk-container-id-1 div.sk-item::before, #sk-container-id-1 div.sk-parallel-item::before {content: \"\";position: absolute;border-left: 1px solid gray;box-sizing: border-box;top: 0;bottom: 0;left: 50%;z-index: -1;}#sk-container-id-1 div.sk-parallel-item {display: flex;flex-direction: column;z-index: 1;position: relative;background-color: white;}#sk-container-id-1 div.sk-parallel-item:first-child::after {align-self: flex-end;width: 50%;}#sk-container-id-1 div.sk-parallel-item:last-child::after {align-self: flex-start;width: 50%;}#sk-container-id-1 div.sk-parallel-item:only-child::after {width: 0;}#sk-container-id-1 div.sk-dashed-wrapped {border: 1px dashed gray;margin: 0 0.4em 0.5em 0.4em;box-sizing: border-box;padding-bottom: 0.4em;background-color: white;}#sk-container-id-1 div.sk-label label {font-family: monospace;font-weight: bold;display: inline-block;line-height: 1.2em;}#sk-container-id-1 div.sk-label-container {text-align: center;}#sk-container-id-1 div.sk-container {/* jupyter's `normalize.less` sets `[hidden] { display: none; }` but bootstrap.min.css set `[hidden] { display: none !important; }` so we also need the `!important` here to be able to override the default hidden behavior on the sphinx rendered scikit-learn.org. See: https://github.com/scikit-learn/scikit-learn/issues/21755 */display: inline-block !important;position: relative;}#sk-container-id-1 div.sk-text-repr-fallback {display: none;}</style><div id=\"sk-container-id-1\" class=\"sk-top-container\"><div class=\"sk-text-repr-fallback\"><pre>Pipeline(steps=[(&#x27;preprocessor&#x27;,\n",
       "                 TextPreprocessor(stop_words={&#x27;a&#x27;, &#x27;ao&#x27;, &#x27;aos&#x27;, &#x27;aquela&#x27;,\n",
       "                                              &#x27;aquelas&#x27;, &#x27;aquele&#x27;, &#x27;aqueles&#x27;,\n",
       "                                              &#x27;aquilo&#x27;, &#x27;as&#x27;, &#x27;até&#x27;, &#x27;com&#x27;,\n",
       "                                              &#x27;como&#x27;, &#x27;da&#x27;, &#x27;das&#x27;, &#x27;de&#x27;, &#x27;dela&#x27;,\n",
       "                                              &#x27;delas&#x27;, &#x27;dele&#x27;, &#x27;deles&#x27;,\n",
       "                                              &#x27;depois&#x27;, &#x27;do&#x27;, &#x27;dos&#x27;, &#x27;e&#x27;, &#x27;ela&#x27;,\n",
       "                                              &#x27;elas&#x27;, &#x27;ele&#x27;, &#x27;eles&#x27;, &#x27;em&#x27;,\n",
       "                                              &#x27;entre&#x27;, &#x27;era&#x27;, ...})),\n",
       "                (&#x27;tfidf&#x27;, TfidfVectorizer())])</pre><b>In a Jupyter environment, please rerun this cell to show the HTML representation or trust the notebook. <br />On GitHub, the HTML representation is unable to render, please try loading this page with nbviewer.org.</b></div><div class=\"sk-container\" hidden><div class=\"sk-item sk-dashed-wrapped\"><div class=\"sk-label-container\"><div class=\"sk-label sk-toggleable\"><input class=\"sk-toggleable__control sk-hidden--visually\" id=\"sk-estimator-id-1\" type=\"checkbox\" ><label for=\"sk-estimator-id-1\" class=\"sk-toggleable__label sk-toggleable__label-arrow\">Pipeline</label><div class=\"sk-toggleable__content\"><pre>Pipeline(steps=[(&#x27;preprocessor&#x27;,\n",
       "                 TextPreprocessor(stop_words={&#x27;a&#x27;, &#x27;ao&#x27;, &#x27;aos&#x27;, &#x27;aquela&#x27;,\n",
       "                                              &#x27;aquelas&#x27;, &#x27;aquele&#x27;, &#x27;aqueles&#x27;,\n",
       "                                              &#x27;aquilo&#x27;, &#x27;as&#x27;, &#x27;até&#x27;, &#x27;com&#x27;,\n",
       "                                              &#x27;como&#x27;, &#x27;da&#x27;, &#x27;das&#x27;, &#x27;de&#x27;, &#x27;dela&#x27;,\n",
       "                                              &#x27;delas&#x27;, &#x27;dele&#x27;, &#x27;deles&#x27;,\n",
       "                                              &#x27;depois&#x27;, &#x27;do&#x27;, &#x27;dos&#x27;, &#x27;e&#x27;, &#x27;ela&#x27;,\n",
       "                                              &#x27;elas&#x27;, &#x27;ele&#x27;, &#x27;eles&#x27;, &#x27;em&#x27;,\n",
       "                                              &#x27;entre&#x27;, &#x27;era&#x27;, ...})),\n",
       "                (&#x27;tfidf&#x27;, TfidfVectorizer())])</pre></div></div></div><div class=\"sk-serial\"><div class=\"sk-item\"><div class=\"sk-estimator sk-toggleable\"><input class=\"sk-toggleable__control sk-hidden--visually\" id=\"sk-estimator-id-2\" type=\"checkbox\" ><label for=\"sk-estimator-id-2\" class=\"sk-toggleable__label sk-toggleable__label-arrow\">TextPreprocessor</label><div class=\"sk-toggleable__content\"><pre>TextPreprocessor(stop_words={&#x27;a&#x27;, &#x27;ao&#x27;, &#x27;aos&#x27;, &#x27;aquela&#x27;, &#x27;aquelas&#x27;, &#x27;aquele&#x27;,\n",
       "                             &#x27;aqueles&#x27;, &#x27;aquilo&#x27;, &#x27;as&#x27;, &#x27;até&#x27;, &#x27;com&#x27;, &#x27;como&#x27;,\n",
       "                             &#x27;da&#x27;, &#x27;das&#x27;, &#x27;de&#x27;, &#x27;dela&#x27;, &#x27;delas&#x27;, &#x27;dele&#x27;,\n",
       "                             &#x27;deles&#x27;, &#x27;depois&#x27;, &#x27;do&#x27;, &#x27;dos&#x27;, &#x27;e&#x27;, &#x27;ela&#x27;, &#x27;elas&#x27;,\n",
       "                             &#x27;ele&#x27;, &#x27;eles&#x27;, &#x27;em&#x27;, &#x27;entre&#x27;, &#x27;era&#x27;, ...})</pre></div></div></div><div class=\"sk-item\"><div class=\"sk-estimator sk-toggleable\"><input class=\"sk-toggleable__control sk-hidden--visually\" id=\"sk-estimator-id-3\" type=\"checkbox\" ><label for=\"sk-estimator-id-3\" class=\"sk-toggleable__label sk-toggleable__label-arrow\">TfidfVectorizer</label><div class=\"sk-toggleable__content\"><pre>TfidfVectorizer()</pre></div></div></div></div></div></div></div>"
      ],
      "text/plain": [
       "Pipeline(steps=[('preprocessor',\n",
       "                 TextPreprocessor(stop_words={'a', 'ao', 'aos', 'aquela',\n",
       "                                              'aquelas', 'aquele', 'aqueles',\n",
       "                                              'aquilo', 'as', 'até', 'com',\n",
       "                                              'como', 'da', 'das', 'de', 'dela',\n",
       "                                              'delas', 'dele', 'deles',\n",
       "                                              'depois', 'do', 'dos', 'e', 'ela',\n",
       "                                              'elas', 'ele', 'eles', 'em',\n",
       "                                              'entre', 'era', ...})),\n",
       "                ('tfidf', TfidfVectorizer())])"
      ]
     },
     "execution_count": 4,
     "metadata": {},
     "output_type": "execute_result"
    }
   ],
   "source": [
    "pipeline.fit(df_dev['ITE_ITEM_TITLE'])"
   ]
  },
  {
   "cell_type": "markdown",
   "id": "cc607752",
   "metadata": {},
   "source": [
    "# Calculo de similitud"
   ]
  },
  {
   "cell_type": "code",
   "execution_count": 5,
   "id": "4fa214bb",
   "metadata": {
    "scrolled": true
   },
   "outputs": [],
   "source": [
    "tfidf_matrix = pipeline.transform(df_dev['ITE_ITEM_TITLE'])\n",
    "cosine_sim_sparse = cosine_similarity(tfidf_matrix, dense_output=False)"
   ]
  },
  {
   "cell_type": "code",
   "execution_count": 6,
   "id": "58d9a9c8",
   "metadata": {},
   "outputs": [],
   "source": [
    "pairs = []\n",
    "n_items = df_dev.shape[0]\n",
    "#for i in range(n_items):\n",
    "for i in [0,1]:\n",
    "    for j in range(i + 1, n_items):\n",
    "        similarity = cosine_sim_sparse[i, j]\n",
    "        if similarity > 0:  # Ajusta este umbral según sea necesario\n",
    "            pairs.append({\n",
    "                'ITE_ITEM_TITLE_1': df_dev['ITE_ITEM_TITLE'].iloc[i],\n",
    "                'ITE_ITEM_TITLE_2': df_dev['ITE_ITEM_TITLE'].iloc[j],\n",
    "                'Score Similitud (0,1)': similarity\n",
    "            })\n",
    "            \n",
    "# Ordena por puntaje de similitud\n",
    "pairs = sorted(pairs, key=lambda x: x['Score Similitud (0,1)'], reverse=True)\n",
    "similarities_df = pd.DataFrame(pairs)"
   ]
  },
  {
   "cell_type": "code",
   "execution_count": 7,
   "id": "c32b4fcd",
   "metadata": {
    "scrolled": false
   },
   "outputs": [
    {
     "data": {
      "text/html": [
       "<div>\n",
       "<style scoped>\n",
       "    .dataframe tbody tr th:only-of-type {\n",
       "        vertical-align: middle;\n",
       "    }\n",
       "\n",
       "    .dataframe tbody tr th {\n",
       "        vertical-align: top;\n",
       "    }\n",
       "\n",
       "    .dataframe thead th {\n",
       "        text-align: right;\n",
       "    }\n",
       "</style>\n",
       "<table border=\"1\" class=\"dataframe\">\n",
       "  <thead>\n",
       "    <tr style=\"text-align: right;\">\n",
       "      <th></th>\n",
       "      <th>ITE_ITEM_TITLE_1</th>\n",
       "      <th>ITE_ITEM_TITLE_2</th>\n",
       "      <th>Score Similitud (0,1)</th>\n",
       "    </tr>\n",
       "  </thead>\n",
       "  <tbody>\n",
       "    <tr>\n",
       "      <th>0</th>\n",
       "      <td>Tenis Para Caminhada Super Levinho Spider Corr...</td>\n",
       "      <td>Tênis Masculino Caminhada Levinho Spider Acade...</td>\n",
       "      <td>0.757001</td>\n",
       "    </tr>\n",
       "    <tr>\n",
       "      <th>1</th>\n",
       "      <td>Tenis Para Caminhada Super Levinho Spider Corr...</td>\n",
       "      <td>Sapatênis Tênis Masculino Spider Casual Levinh...</td>\n",
       "      <td>0.685372</td>\n",
       "    </tr>\n",
       "    <tr>\n",
       "      <th>2</th>\n",
       "      <td>Tenis Para Caminhada Super Levinho Spider Corr...</td>\n",
       "      <td>Tênis Feminino Super Leve Spider Caminhada Aca...</td>\n",
       "      <td>0.625899</td>\n",
       "    </tr>\n",
       "    <tr>\n",
       "      <th>3</th>\n",
       "      <td>Tenis Para Caminhada Super Levinho Spider Corr...</td>\n",
       "      <td>Tênis Feminino Esportivo Levinho Academia Cami...</td>\n",
       "      <td>0.604302</td>\n",
       "    </tr>\n",
       "    <tr>\n",
       "      <th>4</th>\n",
       "      <td>Tenis Para Caminhada Super Levinho Spider Corr...</td>\n",
       "      <td>Tênis Feminino Caminhada Academia Spider Super...</td>\n",
       "      <td>0.592381</td>\n",
       "    </tr>\n",
       "  </tbody>\n",
       "</table>\n",
       "</div>"
      ],
      "text/plain": [
       "                                    ITE_ITEM_TITLE_1  \\\n",
       "0  Tenis Para Caminhada Super Levinho Spider Corr...   \n",
       "1  Tenis Para Caminhada Super Levinho Spider Corr...   \n",
       "2  Tenis Para Caminhada Super Levinho Spider Corr...   \n",
       "3  Tenis Para Caminhada Super Levinho Spider Corr...   \n",
       "4  Tenis Para Caminhada Super Levinho Spider Corr...   \n",
       "\n",
       "                                    ITE_ITEM_TITLE_2  Score Similitud (0,1)  \n",
       "0  Tênis Masculino Caminhada Levinho Spider Acade...               0.757001  \n",
       "1  Sapatênis Tênis Masculino Spider Casual Levinh...               0.685372  \n",
       "2  Tênis Feminino Super Leve Spider Caminhada Aca...               0.625899  \n",
       "3  Tênis Feminino Esportivo Levinho Academia Cami...               0.604302  \n",
       "4  Tênis Feminino Caminhada Academia Spider Super...               0.592381  "
      ]
     },
     "execution_count": 7,
     "metadata": {},
     "output_type": "execute_result"
    }
   ],
   "source": [
    "similarities_df.head()"
   ]
  },
  {
   "cell_type": "markdown",
   "id": "6d12b9d6",
   "metadata": {},
   "source": [
    "# 3. Guardado Pipeline"
   ]
  },
  {
   "cell_type": "code",
   "execution_count": 8,
   "id": "008dea3e",
   "metadata": {},
   "outputs": [
    {
     "data": {
      "text/plain": [
       "['title_processing_pipeline.pkl']"
      ]
     },
     "execution_count": 8,
     "metadata": {},
     "output_type": "execute_result"
    }
   ],
   "source": [
    "joblib.dump(pipeline, 'title_processing_pipeline.pkl')"
   ]
  },
  {
   "cell_type": "markdown",
   "id": "a49d3092",
   "metadata": {},
   "source": [
    "# Cargar el pipeline desde el archivo .pkl"
   ]
  },
  {
   "cell_type": "code",
   "execution_count": 9,
   "id": "3ef8c0f1",
   "metadata": {},
   "outputs": [],
   "source": [
    "loaded_pipeline = joblib.load('title_processing_pipeline.pkl')\n",
    "\n",
    "transformed_data = loaded_pipeline.transform(df_test['ITE_ITEM_TITLE'])\n",
    "\n",
    "cosine_sim_sparse = cosine_similarity(transformed_data, dense_output=False)"
   ]
  },
  {
   "cell_type": "code",
   "execution_count": 10,
   "id": "ab6abc7d",
   "metadata": {},
   "outputs": [
    {
     "name": "stdout",
     "output_type": "stream",
     "text": [
      "Time taken to calculate pairs: 2645.1486 seconds\n"
     ]
    }
   ],
   "source": [
    "similarities_df, time_taken = calculate_similarity_pairs(df_test, cosine_sim_sparse)\n",
    "\n",
    "print(f\"Time taken to calculate pairs: {time_taken:.4f} seconds\")"
   ]
  },
  {
   "cell_type": "code",
   "execution_count": 11,
   "id": "a84a39fe",
   "metadata": {
    "scrolled": true
   },
   "outputs": [
    {
     "data": {
      "text/html": [
       "<div>\n",
       "<style scoped>\n",
       "    .dataframe tbody tr th:only-of-type {\n",
       "        vertical-align: middle;\n",
       "    }\n",
       "\n",
       "    .dataframe tbody tr th {\n",
       "        vertical-align: top;\n",
       "    }\n",
       "\n",
       "    .dataframe thead th {\n",
       "        text-align: right;\n",
       "    }\n",
       "</style>\n",
       "<table border=\"1\" class=\"dataframe\">\n",
       "  <thead>\n",
       "    <tr style=\"text-align: right;\">\n",
       "      <th></th>\n",
       "      <th>ITE_ITEM_TITLE_1</th>\n",
       "      <th>ITE_ITEM_TITLE_2</th>\n",
       "      <th>Score Similitud (0,1)</th>\n",
       "    </tr>\n",
       "  </thead>\n",
       "  <tbody>\n",
       "    <tr>\n",
       "      <th>1703</th>\n",
       "      <td>Tênis Usthemp Volare Temático - Armani Vira-lata</td>\n",
       "      <td>Tênis Usthemp Long Temático - Armani Vira-lata 2</td>\n",
       "      <td>0.800165</td>\n",
       "    </tr>\n",
       "    <tr>\n",
       "      <th>1704</th>\n",
       "      <td>Molekinho 2136.130 Tênis Iate Street Infantil ...</td>\n",
       "      <td>Tênis Infantil Masculino Molekinho Iate Napa C...</td>\n",
       "      <td>0.800145</td>\n",
       "    </tr>\n",
       "    <tr>\n",
       "      <th>1705</th>\n",
       "      <td>Tênis Sapatênis Masculino Casual Velluti Origi...</td>\n",
       "      <td>Tênis Sapatênis Masculino Velluti Original Com...</td>\n",
       "      <td>0.800087</td>\n",
       "    </tr>\n",
       "    <tr>\n",
       "      <th>1706</th>\n",
       "      <td>Tênis Masculino Olympikus Index / 767</td>\n",
       "      <td>Tênis Masculino Olympikus Index 767 Azul/preto</td>\n",
       "      <td>0.800064</td>\n",
       "    </tr>\n",
       "    <tr>\n",
       "      <th>1707</th>\n",
       "      <td>Tênis Rainha</td>\n",
       "      <td>Tênis Rainha Stone - Feminino, Rosa/roxo - Rai...</td>\n",
       "      <td>0.800001</td>\n",
       "    </tr>\n",
       "  </tbody>\n",
       "</table>\n",
       "</div>"
      ],
      "text/plain": [
       "                                       ITE_ITEM_TITLE_1  \\\n",
       "1703  Tênis Usthemp Volare Temático - Armani Vira-lata   \n",
       "1704  Molekinho 2136.130 Tênis Iate Street Infantil ...   \n",
       "1705  Tênis Sapatênis Masculino Casual Velluti Origi...   \n",
       "1706              Tênis Masculino Olympikus Index / 767   \n",
       "1707                                       Tênis Rainha   \n",
       "\n",
       "                                       ITE_ITEM_TITLE_2  Score Similitud (0,1)  \n",
       "1703  Tênis Usthemp Long Temático - Armani Vira-lata 2               0.800165  \n",
       "1704  Tênis Infantil Masculino Molekinho Iate Napa C...               0.800145  \n",
       "1705  Tênis Sapatênis Masculino Velluti Original Com...               0.800087  \n",
       "1706     Tênis Masculino Olympikus Index 767 Azul/preto               0.800064  \n",
       "1707  Tênis Rainha Stone - Feminino, Rosa/roxo - Rai...               0.800001  "
      ]
     },
     "execution_count": 11,
     "metadata": {},
     "output_type": "execute_result"
    }
   ],
   "source": [
    "similarities_df.tail()"
   ]
  },
  {
   "cell_type": "code",
   "execution_count": 15,
   "id": "d7f4abe9",
   "metadata": {},
   "outputs": [
    {
     "data": {
      "text/plain": [
       "(1708, 3)"
      ]
     },
     "execution_count": 15,
     "metadata": {},
     "output_type": "execute_result"
    }
   ],
   "source": [
    "similarities_df.shape"
   ]
  },
  {
   "cell_type": "markdown",
   "id": "f3efad0a",
   "metadata": {},
   "source": [
    "# Analisis Tiempo de Ejecucion y Escalabilidad"
   ]
  },
  {
   "cell_type": "code",
   "execution_count": 19,
   "id": "28b7a505",
   "metadata": {},
   "outputs": [
    {
     "name": "stdout",
     "output_type": "stream",
     "text": [
      "minutos en procesar 44.083333333333336\n"
     ]
    }
   ],
   "source": [
    "print(f\"minutos en procesar {2645/60}\")\n",
    "## solucion poco escalable, cada producto adicional genera una matriz de comparacion aun mayor, quiza se podria hacer una \n",
    "## clasificacion previa con un Kmeans o una reduccion de escalabilidad"
   ]
  }
 ],
 "metadata": {
  "kernelspec": {
   "display_name": "Python 3 (ipykernel)",
   "language": "python",
   "name": "python3"
  },
  "language_info": {
   "codemirror_mode": {
    "name": "ipython",
    "version": 3
   },
   "file_extension": ".py",
   "mimetype": "text/x-python",
   "name": "python",
   "nbconvert_exporter": "python",
   "pygments_lexer": "ipython3",
   "version": "3.11.7"
  }
 },
 "nbformat": 4,
 "nbformat_minor": 5
}
